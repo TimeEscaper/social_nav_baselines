{
 "cells": [
  {
   "cell_type": "code",
   "execution_count": 24,
   "metadata": {},
   "outputs": [
    {
     "data": {
      "text/plain": [
       "array([[-3.        , -2.        , -2.55359005],\n",
       "       [-3.        , -2.        , -2.55359005],\n",
       "       [-3.        , -2.        , -2.55359005]])"
      ]
     },
     "execution_count": 24,
     "metadata": {},
     "output_type": "execute_result"
    }
   ],
   "source": [
    "import numpy as np\n",
    "a = np.array([(-3, -2) for i in range(3)])\n",
    "a = np.hstack([a, np.zeros([3, 1])])\n",
    "a[:, 2] = np.arctan2(a[:, 1], a[:, 0])\n",
    "a"
   ]
  }
 ],
 "metadata": {
  "kernelspec": {
   "display_name": "env",
   "language": "python",
   "name": "python3"
  },
  "language_info": {
   "codemirror_mode": {
    "name": "ipython",
    "version": 3
   },
   "file_extension": ".py",
   "mimetype": "text/x-python",
   "name": "python",
   "nbconvert_exporter": "python",
   "pygments_lexer": "ipython3",
   "version": "3.8.10"
  },
  "orig_nbformat": 4,
  "vscode": {
   "interpreter": {
    "hash": "7b6f442d764aca15355a01b6db910f7395795e29a230c7e4a62601f6d1caa5ea"
   }
  }
 },
 "nbformat": 4,
 "nbformat_minor": 2
}
